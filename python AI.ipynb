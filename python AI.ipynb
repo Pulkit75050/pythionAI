{
 "cells": [
  {
   "cell_type": "code",
   "execution_count": 1,
   "id": "b34f181d-b6d9-4d4f-9290-c93dc0931d19",
   "metadata": {},
   "outputs": [
    {
     "name": "stdin",
     "output_type": "stream",
     "text": [
      "enter 1st number:  5\n",
      "enter 2nd number:  9\n",
      "enter 3rd number:  23\n"
     ]
    },
    {
     "data": {
      "text/plain": [
       "23"
      ]
     },
     "execution_count": 1,
     "metadata": {},
     "output_type": "execute_result"
    }
   ],
   "source": [
    "\"\"\"\n",
    "Question 1: \n",
    "Write a Python program to determine the largest among three numbers entered by the user.\n",
    "\"\"\"\n",
    "\n",
    "def largest_num(a,b,c):\n",
    "    return max(a,b,c)\n",
    "\n",
    "a = int(input(\"enter 1st number: \"))\n",
    "b = int(input(\"enter 2nd number: \"))\n",
    "c = int(input(\"enter 3rd number: \"))\n",
    "\n",
    "largest_num(a,b,c)"
   ]
  },
  {
   "cell_type": "code",
   "execution_count": 6,
   "id": "e8b0a9f5-8b93-495e-a6ba-95ba7e69638c",
   "metadata": {},
   "outputs": [
    {
     "name": "stdout",
     "output_type": "stream",
     "text": [
      "2024 is leap year: True\n"
     ]
    }
   ],
   "source": [
    "\"\"\"\n",
    " Question 2:\n",
    " Write a Python program to check if a given year is a leap year.\n",
    " \"\"\"\n",
    "\n",
    "def leap_year(x):\n",
    "    return(x%4 ==0 and x%100!= 0)or (x%400 ==0)\n",
    "\n",
    "\n",
    "x = 2024\n",
    "result = leap_year(x)\n",
    "print(f\"{x} is leap year: {result}\")"
   ]
  },
  {
   "cell_type": "code",
   "execution_count": 22,
   "id": "1fc3eea0-19d8-4846-911f-48b5646eb098",
   "metadata": {},
   "outputs": [
    {
     "name": "stdout",
     "output_type": "stream",
     "text": [
      "1\n",
      "22\n",
      "333\n",
      "4444\n",
      "55555\n"
     ]
    }
   ],
   "source": [
    "\"\"\"\n",
    " Question 3:\n",
    " Write a Python program to print the following pattern.\n",
    " \"\"\"\n",
    "for i in range(1,6):\n",
    "    for j in range(i-1):\n",
    "        print(i, end =\"\")\n",
    "    print(i)\n",
    "        "
   ]
  },
  {
   "cell_type": "code",
   "execution_count": 23,
   "id": "f5fdbadf-7f02-4e66-ac4e-b4e0252f8bb2",
   "metadata": {},
   "outputs": [
    {
     "name": "stdout",
     "output_type": "stream",
     "text": [
      "*\n",
      "**\n",
      "***\n",
      "****\n",
      "*****\n"
     ]
    }
   ],
   "source": [
    "\"\"\"\n",
    " Question 3:\n",
    " Write a Python program to print the following pattern.\n",
    " \"\"\"\n",
    "\n",
    "for i in range(5):\n",
    "    for j in range(i+1):\n",
    "        print(\"*\", end=\"\")\n",
    "    print()"
   ]
  },
  {
   "cell_type": "code",
   "execution_count": 34,
   "id": "0ad52727-f2b1-47dd-9aa8-6faf3bd39482",
   "metadata": {},
   "outputs": [
    {
     "name": "stdout",
     "output_type": "stream",
     "text": [
      "\n",
      "*\n",
      "**\n",
      "***\n",
      "****\n",
      "*****\n"
     ]
    }
   ],
   "source": [
    "\"\"\"\n",
    "Question 5:\n",
    " Write a Python program to print the following pattern:\n",
    " \"\"\"\n",
    "\n",
    "for i in range(6):\n",
    "    for j in range(i):\n",
    "        print(\"*\", end=\"\")\n",
    "    print()"
   ]
  },
  {
   "cell_type": "code",
   "execution_count": 36,
   "id": "ba617c2c-1c90-4207-83a5-4bf485913af2",
   "metadata": {},
   "outputs": [
    {
     "name": "stdout",
     "output_type": "stream",
     "text": [
      "1\n",
      "2\n",
      "Fizz\n",
      "4\n",
      "Buzz\n",
      "Fizz\n",
      "7\n",
      "8\n",
      "Fizz\n",
      "Buzz\n",
      "11\n",
      "Fizz\n",
      "13\n",
      "14\n",
      "Fizz\n",
      "16\n",
      "17\n",
      "Fizz\n",
      "19\n",
      "Buzz\n",
      "Fizz\n",
      "22\n",
      "23\n",
      "Fizz\n",
      "Buzz\n",
      "26\n",
      "Fizz\n",
      "28\n",
      "29\n",
      "Fizz\n",
      "31\n",
      "32\n",
      "Fizz\n",
      "34\n",
      "Buzz\n",
      "Fizz\n",
      "37\n",
      "38\n",
      "Fizz\n",
      "Buzz\n",
      "41\n",
      "Fizz\n",
      "43\n",
      "44\n",
      "Fizz\n",
      "46\n",
      "47\n",
      "Fizz\n",
      "49\n",
      "Buzz\n",
      "Fizz\n",
      "52\n",
      "53\n",
      "Fizz\n",
      "Buzz\n",
      "56\n",
      "Fizz\n",
      "58\n",
      "59\n",
      "Fizz\n",
      "61\n",
      "62\n",
      "Fizz\n",
      "64\n",
      "Buzz\n",
      "Fizz\n",
      "67\n",
      "68\n",
      "Fizz\n",
      "Buzz\n",
      "71\n",
      "Fizz\n",
      "73\n",
      "74\n",
      "Fizz\n",
      "76\n",
      "77\n",
      "Fizz\n",
      "79\n",
      "Buzz\n",
      "Fizz\n",
      "82\n",
      "83\n",
      "Fizz\n",
      "Buzz\n",
      "86\n",
      "Fizz\n",
      "88\n",
      "89\n",
      "Fizz\n",
      "91\n",
      "92\n",
      "Fizz\n",
      "94\n",
      "Buzz\n",
      "Fizz\n",
      "97\n",
      "98\n",
      "Fizz\n",
      "Buzz\n"
     ]
    }
   ],
   "source": [
    "\"\"\"\n",
    "Question 6:\n",
    " Write a program that prints the numbers 1 to 100. However, for multiples of 3, print \"Fizz\" instead of the \n",
    "number. For multiples of 5, print \"Buzz\". For numbers that are multiples of both 3 and 5, print \"FizzBuzz.\n",
    "\"\"\"\n",
    "\n",
    "for i in range(1,101):\n",
    "    if i%3==0:\n",
    "        print(\"Fizz\")\n",
    "    elif i%5==0:\n",
    "        print(\"Buzz\")\n",
    "    elif i%3==0 and i%5==0:\n",
    "        print(\"FissBuzz\")\n",
    "    else:\n",
    "        print(i)\n"
   ]
  },
  {
   "cell_type": "code",
   "execution_count": 37,
   "id": "d02b1937-e8b1-47ca-ab2b-9aa8a1226d1d",
   "metadata": {},
   "outputs": [
    {
     "name": "stdin",
     "output_type": "stream",
     "text": [
      "Enter a positive integer (n):  58\n"
     ]
    },
    {
     "name": "stdout",
     "output_type": "stream",
     "text": [
      "Sum of prime numbers up to 58: 381\n"
     ]
    }
   ],
   "source": [
    "\"\"\"\n",
    "Question 7: \n",
    "Write a Python program to find the sum of all prime numbers up to n.\n",
    "\"\"\"\n",
    "def is_prime(num):\n",
    "    if num < 2:\n",
    "        return False\n",
    "    for i in range(2, int(num**0.5) + 1):\n",
    "        if num % i == 0:\n",
    "            return False\n",
    "    return True\n",
    "\n",
    "def sum_of_primes_simple(n):\n",
    "    total_sum = 0\n",
    "    for num in range(2, n + 1):\n",
    "        if is_prime(num):\n",
    "            total_sum += num\n",
    "    return total_sum\n",
    "\n",
    "n = int(input(\"Enter a positive integer (n): \"))\n",
    "result_simple = sum_of_primes_simple(n)\n",
    "print(f\"Sum of prime numbers up to {n}: {result_simple}\")\n"
   ]
  },
  {
   "cell_type": "code",
   "execution_count": 38,
   "id": "1ea0ac75-a8b7-4dfd-a773-031bfa0523ac",
   "metadata": {},
   "outputs": [
    {
     "name": "stdin",
     "output_type": "stream",
     "text": [
      "Enter the number of terms:  25\n"
     ]
    },
    {
     "name": "stdout",
     "output_type": "stream",
     "text": [
      "Fibonacci sequence:\n",
      "0 1 1 2 3 5 8 13 21 34 55 89 144 233 377 610 987 1597 2584 4181 6765 10946 17711 28657 46368 "
     ]
    }
   ],
   "source": [
    "\"\"\"\n",
    "Question 8:\n",
    " Write a Python program to print the Fibonacci sequence up to n terms. The Fibonacci series is a sequence of \n",
    "numbers where each number is the sum of the two preceding ones, usually starting with 0 and 1.\n",
    "\"\"\"\n",
    "def fibonacci(n):\n",
    "    fib_sequence = [0, 1]  # Initialize the first two terms\n",
    "    while len(fib_sequence) < n:\n",
    "        next_term = fib_sequence[-1] + fib_sequence[-2]\n",
    "        fib_sequence.append(next_term)\n",
    "    return fib_sequence\n",
    "\n",
    "# Input the number of terms\n",
    "n = int(input(\"Enter the number of terms: \"))\n",
    "\n",
    "# Get the Fibonacci sequence\n",
    "fib_terms = fibonacci(n)\n",
    "\n",
    "# Print the sequence\n",
    "print(\"Fibonacci sequence:\")\n",
    "for term in fib_terms:\n",
    "    print(term, end=\" \")"
   ]
  }
 ],
 "metadata": {
  "kernelspec": {
   "display_name": "Python 3 (ipykernel)",
   "language": "python",
   "name": "python3"
  },
  "language_info": {
   "codemirror_mode": {
    "name": "ipython",
    "version": 3
   },
   "file_extension": ".py",
   "mimetype": "text/x-python",
   "name": "python",
   "nbconvert_exporter": "python",
   "pygments_lexer": "ipython3",
   "version": "3.10.8"
  }
 },
 "nbformat": 4,
 "nbformat_minor": 5
}
